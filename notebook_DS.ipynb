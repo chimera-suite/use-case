{
 "cells": [
  {
   "cell_type": "code",
   "execution_count": 1,
   "metadata": {},
   "outputs": [],
   "source": [
    "from pyspark import SparkContext, SparkConf\n",
    "from pyspark.sql import SparkSession, HiveContext\n",
    "from pyspark.sql.functions import *"
   ]
  },
  {
   "cell_type": "code",
   "execution_count": 3,
   "metadata": {},
   "outputs": [],
   "source": [
    "from PySPARQL.Wrapper import PySPARQLWrapper"
   ]
  },
  {
   "cell_type": "markdown",
   "metadata": {},
   "source": [
    "### Connection to Apache Spark"
   ]
  },
  {
   "cell_type": "code",
   "execution_count": 4,
   "metadata": {},
   "outputs": [],
   "source": [
    "spark = (SparkSession\n",
    "          .builder\n",
    "          .appName(\"interfacing spark sql to hive metastore without configuration file\")\n",
    "          .config(\"hive.metastore.uris\", \"thrift://hive-metastore:9083\") \n",
    "          .enableHiveSupport() \n",
    "          .getOrCreate())"
   ]
  },
  {
   "cell_type": "markdown",
   "metadata": {},
   "source": [
    "### SPARQL query execution"
   ]
  },
  {
   "cell_type": "code",
   "execution_count": 5,
   "metadata": {},
   "outputs": [],
   "source": [
    "sparql_endpoint = \"http://jena-fuseki:3030/pizzads\"\n",
    "\n",
    "query = \"\"\"\n",
    "    PREFIX : <http://www.co-ode.org/ontologies/pizza/pizza.owl#>\n",
    "\n",
    "    SELECT ?pizzaID ?outcome\n",
    "    WHERE {\n",
    "\n",
    "      ?pizzaType :suggestedTempLow ?tempLow; :suggestedDurationLow ?durLow;\n",
    "                 :suggestedTempUp ?tempUp; :suggestedDurationUp ?durUp .\n",
    "\n",
    "      SERVICE <http://ontop:8080/sparql> {\n",
    "        ?pizzaID a ?pizzaType.\n",
    "        ?pizzaID :temperature ?avgTemp; :start_cooking ?start; :end_cooking ?end.\n",
    "      }\n",
    "\n",
    "      BIND ((?end-?start) AS ?cookDuration)\n",
    "\n",
    "      BIND( IF ((?avgTemp >= ?tempLow && ?avgTemp <= ?tempUp) &&\n",
    "          (?cookDuration >= ?durLow && ?cookDuration <= ?durUp)\n",
    "          ,\"WELL_COOKED\",\"ANOMALY\") AS ?outcome)\n",
    "    }\n",
    "\"\"\"\n",
    "\n",
    "wrapper = PySPARQLWrapper(spark, sparql_endpoint)\n",
    "result = wrapper.query(query)\n",
    "resultDF = result.dataFrame"
   ]
  },
  {
   "cell_type": "code",
   "execution_count": 6,
   "metadata": {},
   "outputs": [
    {
     "name": "stdout",
     "output_type": "stream",
     "text": [
      "+--------------------+-----------+\n",
      "|             pizzaID|    outcome|\n",
      "+--------------------+-----------+\n",
      "|http://www.co-ode...|    ANOMALY|\n",
      "|http://www.co-ode...|WELL_COOKED|\n",
      "|http://www.co-ode...|WELL_COOKED|\n",
      "|http://www.co-ode...|WELL_COOKED|\n",
      "|http://www.co-ode...|WELL_COOKED|\n",
      "|http://www.co-ode...|    ANOMALY|\n",
      "|http://www.co-ode...|    ANOMALY|\n",
      "|http://www.co-ode...|    ANOMALY|\n",
      "|http://www.co-ode...|WELL_COOKED|\n",
      "|http://www.co-ode...|WELL_COOKED|\n",
      "|http://www.co-ode...|WELL_COOKED|\n",
      "|http://www.co-ode...|WELL_COOKED|\n",
      "|http://www.co-ode...|    ANOMALY|\n",
      "|http://www.co-ode...|WELL_COOKED|\n",
      "|http://www.co-ode...|WELL_COOKED|\n",
      "|http://www.co-ode...|WELL_COOKED|\n",
      "|http://www.co-ode...|WELL_COOKED|\n",
      "|http://www.co-ode...|    ANOMALY|\n",
      "|http://www.co-ode...|WELL_COOKED|\n",
      "|http://www.co-ode...|    ANOMALY|\n",
      "+--------------------+-----------+\n",
      "\n"
     ]
    }
   ],
   "source": [
    "resultDF.show()  # Plot the results"
   ]
  },
  {
   "cell_type": "code",
   "execution_count": 7,
   "metadata": {},
   "outputs": [],
   "source": [
    "# clean the result by removing the prefixes\n",
    "\n",
    "df2 = resultDF.withColumn(\"pizzaID\", regexp_replace('pizzaID','http://www.co-ode.org/ontologies/pizza/pizza.owl#',''))"
   ]
  },
  {
   "cell_type": "code",
   "execution_count": 8,
   "metadata": {},
   "outputs": [
    {
     "name": "stdout",
     "output_type": "stream",
     "text": [
      "+-------+-----------+\n",
      "|pizzaID|    outcome|\n",
      "+-------+-----------+\n",
      "|  PZ789|    ANOMALY|\n",
      "|  PZ333|WELL_COOKED|\n",
      "|  PZ222|WELL_COOKED|\n",
      "|  PZ005|WELL_COOKED|\n",
      "|  PZ456|WELL_COOKED|\n",
      "|  PZ001|    ANOMALY|\n",
      "|  PZ789|    ANOMALY|\n",
      "|  PZ444|    ANOMALY|\n",
      "|  PZ333|WELL_COOKED|\n",
      "|  PZ999|WELL_COOKED|\n",
      "|  PZ111|WELL_COOKED|\n",
      "|  PZ003|WELL_COOKED|\n",
      "|  PZ004|    ANOMALY|\n",
      "|  PZ002|WELL_COOKED|\n",
      "|  PZ888|WELL_COOKED|\n",
      "|  PZ666|WELL_COOKED|\n",
      "|  PZ777|WELL_COOKED|\n",
      "|  PZ123|    ANOMALY|\n",
      "|  PZ555|WELL_COOKED|\n",
      "|  PZ222|    ANOMALY|\n",
      "+-------+-----------+\n",
      "\n"
     ]
    }
   ],
   "source": [
    "df2.show()   # Plot the cleaned results"
   ]
  },
  {
   "cell_type": "markdown",
   "metadata": {},
   "source": [
    "### Persists the Spark Dataframe into a Spark table"
   ]
  },
  {
   "cell_type": "code",
   "execution_count": 9,
   "metadata": {},
   "outputs": [],
   "source": [
    "df2.write.mode(\"overwrite\").saveAsTable('pizzadb.analysis')"
   ]
  },
  {
   "cell_type": "code",
   "execution_count": null,
   "metadata": {},
   "outputs": [],
   "source": []
  }
 ],
 "metadata": {
  "kernelspec": {
   "display_name": "Python 3",
   "language": "python",
   "name": "python3"
  },
  "language_info": {
   "codemirror_mode": {
    "name": "ipython",
    "version": 3
   },
   "file_extension": ".py",
   "mimetype": "text/x-python",
   "name": "python",
   "nbconvert_exporter": "python",
   "pygments_lexer": "ipython3",
   "version": "3.8.6"
  }
 },
 "nbformat": 4,
 "nbformat_minor": 4
}
