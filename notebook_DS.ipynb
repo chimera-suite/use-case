{
 "cells": [
  {
   "cell_type": "code",
   "execution_count": 55,
   "metadata": {},
   "outputs": [],
   "source": [
    "from pyspark import SparkContext, SparkConf\n",
    "from pyspark.sql import SparkSession, HiveContext\n"
   ]
  },
  {
   "cell_type": "code",
   "execution_count": 56,
   "metadata": {},
   "outputs": [
    {
     "name": "stdout",
     "output_type": "stream",
     "text": [
      "Requirement already satisfied: SPARQL2Spark==0.0.5 in /opt/conda/lib/python3.8/site-packages (0.0.5)\n",
      "Requirement already satisfied: graphframes in /opt/conda/lib/python3.8/site-packages (from SPARQL2Spark==0.0.5) (0.6)\n",
      "Requirement already satisfied: rdflib-jsonld in /opt/conda/lib/python3.8/site-packages (from SPARQL2Spark==0.0.5) (0.5.0)\n",
      "Requirement already satisfied: rdflib in /opt/conda/lib/python3.8/site-packages (from SPARQL2Spark==0.0.5) (5.0.0)\n",
      "Requirement already satisfied: pyspark in /opt/conda/lib/python3.8/site-packages (from SPARQL2Spark==0.0.5) (3.0.1)\n",
      "Requirement already satisfied: sparqlwrapper in /opt/conda/lib/python3.8/site-packages (from SPARQL2Spark==0.0.5) (1.8.5)\n",
      "Requirement already satisfied: nose in /opt/conda/lib/python3.8/site-packages (from graphframes->SPARQL2Spark==0.0.5) (1.3.7)\n",
      "Requirement already satisfied: numpy in /opt/conda/lib/python3.8/site-packages (from graphframes->SPARQL2Spark==0.0.5) (1.19.4)\n",
      "Requirement already satisfied: py4j==0.10.9 in /opt/conda/lib/python3.8/site-packages (from pyspark->SPARQL2Spark==0.0.5) (0.10.9)\n",
      "Requirement already satisfied: pyparsing in /opt/conda/lib/python3.8/site-packages (from rdflib->SPARQL2Spark==0.0.5) (2.4.7)\n",
      "Requirement already satisfied: six in /opt/conda/lib/python3.8/site-packages (from rdflib->SPARQL2Spark==0.0.5) (1.15.0)\n",
      "Requirement already satisfied: isodate in /opt/conda/lib/python3.8/site-packages (from rdflib->SPARQL2Spark==0.0.5) (0.6.0)\n",
      "Requirement already satisfied: six in /opt/conda/lib/python3.8/site-packages (from rdflib->SPARQL2Spark==0.0.5) (1.15.0)\n",
      "Requirement already satisfied: rdflib in /opt/conda/lib/python3.8/site-packages (from SPARQL2Spark==0.0.5) (5.0.0)\n",
      "Requirement already satisfied: rdflib in /opt/conda/lib/python3.8/site-packages (from SPARQL2Spark==0.0.5) (5.0.0)\n"
     ]
    }
   ],
   "source": [
    "!pip install SPARQL2Spark==0.0.5"
   ]
  },
  {
   "cell_type": "code",
   "execution_count": 57,
   "metadata": {},
   "outputs": [],
   "source": [
    "from SPARQL2Spark.Wrapper import SPARQL2SparkWrapper"
   ]
  },
  {
   "cell_type": "code",
   "execution_count": 58,
   "metadata": {},
   "outputs": [],
   "source": [
    "spark = (SparkSession\n",
    "          .builder\n",
    "          .appName(\"interfacing spark sql to hive metastore without configuration file\")\n",
    "          .config(\"hive.metastore.uris\", \"thrift://hive-metastore:9083\") \n",
    "          .enableHiveSupport() \n",
    "          .getOrCreate())"
   ]
  },
  {
   "cell_type": "code",
   "execution_count": 59,
   "metadata": {},
   "outputs": [
    {
     "name": "stdout",
     "output_type": "stream",
     "text": [
      "pizzaID,outcome\r\n",
      "http://www.co-ode.org/ontologies/pizza/pizza.owl#PZ789,ANOMALY\r\n",
      "http://www.co-ode.org/ontologies/pizza/pizza.owl#PZ333,WELL_COOKED\r\n",
      "http://www.co-ode.org/ontologies/pizza/pizza.owl#PZ222,WELL_COOKED\r\n",
      "http://www.co-ode.org/ontologies/pizza/pizza.owl#PZ005,WELL_COOKED\r\n",
      "http://www.co-ode.org/ontologies/pizza/pizza.owl#PZ456,WELL_COOKED\r\n",
      "http://www.co-ode.org/ontologies/pizza/pizza.owl#PZ001,ANOMALY\r\n",
      "http://www.co-ode.org/ontologies/pizza/pizza.owl#PZ789,ANOMALY\r\n",
      "http://www.co-ode.org/ontologies/pizza/pizza.owl#PZ444,ANOMALY\r\n",
      "http://www.co-ode.org/ontologies/pizza/pizza.owl#PZ333,WELL_COOKED\r\n",
      "http://www.co-ode.org/ontologies/pizza/pizza.owl#PZ999,WELL_COOKED\r\n",
      "http://www.co-ode.org/ontologies/pizza/pizza.owl#PZ111,WELL_COOKED\r\n",
      "http://www.co-ode.org/ontologies/pizza/pizza.owl#PZ003,WELL_COOKED\r\n",
      "http://www.co-ode.org/ontologies/pizza/pizza.owl#PZ004,ANOMALY\r\n",
      "http://www.co-ode.org/ontologies/pizza/pizza.owl#PZ002,WELL_COOKED\r\n",
      "http://www.co-ode.org/ontologies/pizza/pizza.owl#PZ888,WELL_COOKED\r\n",
      "http://www.co-ode.org/ontologies/pizza/pizza.owl#PZ666,WELL_COOKED\r\n",
      "http://www.co-ode.org/ontologies/pizza/pizza.owl#PZ777,WELL_COOKED\r\n",
      "http://www.co-ode.org/ontologies/pizza/pizza.owl#PZ123,ANOMALY\r\n",
      "http://www.co-ode.org/ontologies/pizza/pizza.owl#PZ555,WELL_COOKED\r\n",
      "http://www.co-ode.org/ontologies/pizza/pizza.owl#PZ222,ANOMALY\r\n",
      "\n"
     ]
    }
   ],
   "source": [
    "sparql_endpoint = \"http://jena-fuseki:3030/pizzads\"\n",
    "\n",
    "query = \"\"\"\n",
    "    PREFIX : <http://www.co-ode.org/ontologies/pizza/pizza.owl#>\n",
    "\n",
    "    SELECT ?pizzaID ?outcome\n",
    "    WHERE {\n",
    "\n",
    "      ?pizzaType :suggestedTempLow ?tempLow; :suggestedDurationLow ?durLow;\n",
    "                 :suggestedTempUp ?tempUp; :suggestedDurationUp ?durUp .\n",
    "\n",
    "      SERVICE <http://ontop:8080/sparql> {\n",
    "        ?pizzaID a ?pizzaType.\n",
    "        ?pizzaID :temperature ?avgTemp; :start_cooking ?start; :end_cooking ?end.\n",
    "      }\n",
    "\n",
    "      BIND ((?end-?start) AS ?cookDuration)\n",
    "\n",
    "      BIND( IF ((?avgTemp >= ?tempLow && ?avgTemp <= ?tempUp) &&\n",
    "          (?cookDuration >= ?durLow && ?cookDuration <= ?durUp)\n",
    "          ,\"WELL_COOKED\",\"ANOMALY\") AS ?outcome)\n",
    "    }\n",
    "\"\"\"\n",
    "\n",
    "wrapper = SPARQL2SparkWrapper(spark, sparql_endpoint)\n",
    "result = wrapper.query(query)\n",
    "resultDF = result.dataFrame"
   ]
  },
  {
   "cell_type": "code",
   "execution_count": 60,
   "metadata": {},
   "outputs": [
    {
     "name": "stdout",
     "output_type": "stream",
     "text": [
      "+--------------------+-----------+\n",
      "|             pizzaID|    outcome|\n",
      "+--------------------+-----------+\n",
      "|http://www.co-ode...|    ANOMALY|\n",
      "|http://www.co-ode...|WELL_COOKED|\n",
      "|http://www.co-ode...|WELL_COOKED|\n",
      "|http://www.co-ode...|WELL_COOKED|\n",
      "|http://www.co-ode...|WELL_COOKED|\n",
      "|http://www.co-ode...|    ANOMALY|\n",
      "|http://www.co-ode...|    ANOMALY|\n",
      "|http://www.co-ode...|    ANOMALY|\n",
      "|http://www.co-ode...|WELL_COOKED|\n",
      "|http://www.co-ode...|WELL_COOKED|\n",
      "|http://www.co-ode...|WELL_COOKED|\n",
      "|http://www.co-ode...|WELL_COOKED|\n",
      "|http://www.co-ode...|    ANOMALY|\n",
      "|http://www.co-ode...|WELL_COOKED|\n",
      "|http://www.co-ode...|WELL_COOKED|\n",
      "|http://www.co-ode...|WELL_COOKED|\n",
      "|http://www.co-ode...|WELL_COOKED|\n",
      "|http://www.co-ode...|    ANOMALY|\n",
      "|http://www.co-ode...|WELL_COOKED|\n",
      "|http://www.co-ode...|    ANOMALY|\n",
      "+--------------------+-----------+\n",
      "\n"
     ]
    }
   ],
   "source": [
    "resultDF.show()"
   ]
  },
  {
   "cell_type": "code",
   "execution_count": 61,
   "metadata": {},
   "outputs": [],
   "source": [
    "from pyspark.sql.functions import *\n",
    "\n",
    "df2 = resultDF.withColumn(\"pizzaID\", regexp_replace('pizzaID','http://www.co-ode.org/ontologies/pizza/pizza.owl#',''))"
   ]
  },
  {
   "cell_type": "code",
   "execution_count": 62,
   "metadata": {},
   "outputs": [
    {
     "name": "stdout",
     "output_type": "stream",
     "text": [
      "+-------+-----------+\n",
      "|pizzaID|    outcome|\n",
      "+-------+-----------+\n",
      "|  PZ789|    ANOMALY|\n",
      "|  PZ333|WELL_COOKED|\n",
      "|  PZ222|WELL_COOKED|\n",
      "|  PZ005|WELL_COOKED|\n",
      "|  PZ456|WELL_COOKED|\n",
      "|  PZ001|    ANOMALY|\n",
      "|  PZ789|    ANOMALY|\n",
      "|  PZ444|    ANOMALY|\n",
      "|  PZ333|WELL_COOKED|\n",
      "|  PZ999|WELL_COOKED|\n",
      "|  PZ111|WELL_COOKED|\n",
      "|  PZ003|WELL_COOKED|\n",
      "|  PZ004|    ANOMALY|\n",
      "|  PZ002|WELL_COOKED|\n",
      "|  PZ888|WELL_COOKED|\n",
      "|  PZ666|WELL_COOKED|\n",
      "|  PZ777|WELL_COOKED|\n",
      "|  PZ123|    ANOMALY|\n",
      "|  PZ555|WELL_COOKED|\n",
      "|  PZ222|    ANOMALY|\n",
      "+-------+-----------+\n",
      "\n"
     ]
    }
   ],
   "source": [
    "df2.show()"
   ]
  },
  {
   "cell_type": "code",
   "execution_count": 63,
   "metadata": {},
   "outputs": [],
   "source": [
    "df2.write.mode(\"overwrite\").saveAsTable('pizzadb.analysis')"
   ]
  },
  {
   "cell_type": "code",
   "execution_count": null,
   "metadata": {},
   "outputs": [],
   "source": []
  }
 ],
 "metadata": {
  "kernelspec": {
   "display_name": "Python 3",
   "language": "python",
   "name": "python3"
  },
  "language_info": {
   "codemirror_mode": {
    "name": "ipython",
    "version": 3
   },
   "file_extension": ".py",
   "mimetype": "text/x-python",
   "name": "python",
   "nbconvert_exporter": "python",
   "pygments_lexer": "ipython3",
   "version": "3.8.6"
  }
 },
 "nbformat": 4,
 "nbformat_minor": 4
}
