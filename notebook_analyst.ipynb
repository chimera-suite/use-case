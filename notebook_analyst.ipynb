{
 "cells": [
  {
   "cell_type": "code",
   "execution_count": 56,
   "metadata": {},
   "outputs": [],
   "source": [
    "from pyspark import SparkContext, SparkConf\n",
    "from pyspark.sql import SparkSession, HiveContext"
   ]
  },
  {
   "cell_type": "code",
   "execution_count": 57,
   "metadata": {},
   "outputs": [
    {
     "name": "stdout",
     "output_type": "stream",
     "text": [
      "Requirement already satisfied: SPARQL2Spark==0.0.5 in /opt/conda/lib/python3.8/site-packages (0.0.5)\n",
      "Requirement already satisfied: rdflib-jsonld in /opt/conda/lib/python3.8/site-packages (from SPARQL2Spark==0.0.5) (0.5.0)\n",
      "Requirement already satisfied: rdflib in /opt/conda/lib/python3.8/site-packages (from SPARQL2Spark==0.0.5) (5.0.0)\n",
      "Requirement already satisfied: graphframes in /opt/conda/lib/python3.8/site-packages (from SPARQL2Spark==0.0.5) (0.6)\n",
      "Requirement already satisfied: pyspark in /opt/conda/lib/python3.8/site-packages (from SPARQL2Spark==0.0.5) (3.0.1)\n",
      "Requirement already satisfied: sparqlwrapper in /opt/conda/lib/python3.8/site-packages (from SPARQL2Spark==0.0.5) (1.8.5)\n",
      "Requirement already satisfied: nose in /opt/conda/lib/python3.8/site-packages (from graphframes->SPARQL2Spark==0.0.5) (1.3.7)\n",
      "Requirement already satisfied: numpy in /opt/conda/lib/python3.8/site-packages (from graphframes->SPARQL2Spark==0.0.5) (1.19.4)\n",
      "Requirement already satisfied: py4j==0.10.9 in /opt/conda/lib/python3.8/site-packages (from pyspark->SPARQL2Spark==0.0.5) (0.10.9)\n",
      "Requirement already satisfied: isodate in /opt/conda/lib/python3.8/site-packages (from rdflib->SPARQL2Spark==0.0.5) (0.6.0)\n",
      "Requirement already satisfied: six in /opt/conda/lib/python3.8/site-packages (from rdflib->SPARQL2Spark==0.0.5) (1.15.0)\n",
      "Requirement already satisfied: pyparsing in /opt/conda/lib/python3.8/site-packages (from rdflib->SPARQL2Spark==0.0.5) (2.4.7)\n",
      "Requirement already satisfied: six in /opt/conda/lib/python3.8/site-packages (from rdflib->SPARQL2Spark==0.0.5) (1.15.0)\n",
      "Requirement already satisfied: rdflib in /opt/conda/lib/python3.8/site-packages (from SPARQL2Spark==0.0.5) (5.0.0)\n",
      "Requirement already satisfied: rdflib in /opt/conda/lib/python3.8/site-packages (from SPARQL2Spark==0.0.5) (5.0.0)\n"
     ]
    }
   ],
   "source": [
    "!pip install SPARQL2Spark==0.0.5"
   ]
  },
  {
   "cell_type": "code",
   "execution_count": 58,
   "metadata": {},
   "outputs": [],
   "source": [
    "from SPARQL2Spark.Wrapper import SPARQL2SparkWrapper"
   ]
  },
  {
   "cell_type": "code",
   "execution_count": 59,
   "metadata": {},
   "outputs": [],
   "source": [
    "spark = (SparkSession\n",
    "          .builder\n",
    "          .appName(\"interfacing spark sql to hive metastore without configuration file\")\n",
    "          .config(\"hive.metastore.uris\", \"thrift://hive-metastore:9083\") \n",
    "          .enableHiveSupport() \n",
    "          .getOrCreate())"
   ]
  },
  {
   "cell_type": "code",
   "execution_count": 60,
   "metadata": {},
   "outputs": [
    {
     "name": "stdout",
     "output_type": "stream",
     "text": [
      "count,restaurant\r\n",
      "0.666666666666666666666666,RESTAURANT_1\r\n",
      "0.0,RESTAURANT_2\r\n",
      "\n"
     ]
    }
   ],
   "source": [
    "sparql_endpoint = \"http://jena-fuseki:3030/pizzads\"\n",
    "\n",
    "query = \"\"\"\n",
    "    PREFIX : <http://www.co-ode.org/ontologies/pizza/pizza.owl#>\n",
    "\n",
    "    SELECT (COUNT(?anomalous)/(COUNT(?good)+COUNT(?anomalous)) as ?count) ?restaurant\n",
    "    WHERE {\n",
    "      SERVICE <http://ontop:8080/sparql> {\n",
    "        {?anomalous a :AnomalousPizza; :restaurant ?restaurant.}\n",
    "        UNION\n",
    "        {?good a :GoodPizza; :restaurant ?restaurant.}\n",
    "      }\n",
    "    }\n",
    "    GROUP BY ?restaurant\n",
    "\"\"\"\n",
    "\n",
    "wrapper = SPARQL2SparkWrapper(spark, sparql_endpoint)\n",
    "result = wrapper.query(query)\n",
    "resultDF = result.dataFrame"
   ]
  },
  {
   "cell_type": "code",
   "execution_count": 61,
   "metadata": {},
   "outputs": [
    {
     "name": "stdout",
     "output_type": "stream",
     "text": [
      "+--------------------+------------+\n",
      "|               count|  restaurant|\n",
      "+--------------------+------------+\n",
      "|0.666666666666666...|RESTAURANT_1|\n",
      "|                 0.0|RESTAURANT_2|\n",
      "+--------------------+------------+\n",
      "\n"
     ]
    }
   ],
   "source": [
    "resultDF.show()"
   ]
  },
  {
   "cell_type": "code",
   "execution_count": 62,
   "metadata": {},
   "outputs": [],
   "source": [
    "import pandas as pd"
   ]
  },
  {
   "cell_type": "code",
   "execution_count": 67,
   "metadata": {},
   "outputs": [
    {
     "data": {
      "text/plain": [
       "Text(0.5, 0, 'RESTAURANTS')"
      ]
     },
     "execution_count": 67,
     "metadata": {},
     "output_type": "execute_result"
    },
    {
     "data": {
      "image/png": "[encoded data removed]",
      "text/plain": [
       "<Figure size 432x288 with 1 Axes>"
      ]
     },
     "metadata": {
      "needs_background": "light"
     },
     "output_type": "display_data"
    }
   ],
   "source": [
    "df = pd.DataFrame({'lab':pandasDF[\"restaurant\"], 'val':pandasDF[\"count\"].astype(float)})\n",
    "ax = df.plot.bar(x='lab', y='val', rot=0)\n",
    "ax.set_ylabel(\"% ANOMALIES\")\n",
    "ax.set_xlabel(\"RESTAURANTS\")"
   ]
  },
  {
   "cell_type": "code",
   "execution_count": null,
   "metadata": {},
   "outputs": [],
   "source": []
  },
  {
   "cell_type": "code",
   "execution_count": null,
   "metadata": {},
   "outputs": [],
   "source": []
  },
  {
   "cell_type": "code",
   "execution_count": null,
   "metadata": {},
   "outputs": [],
   "source": []
  },
  {
   "cell_type": "code",
   "execution_count": null,
   "metadata": {},
   "outputs": [],
   "source": [
    "\n"
   ]
  },
  {
   "cell_type": "code",
   "execution_count": null,
   "metadata": {},
   "outputs": [],
   "source": []
  },
  {
   "cell_type": "code",
   "execution_count": null,
   "metadata": {},
   "outputs": [],
   "source": []
  },
  {
   "cell_type": "code",
   "execution_count": null,
   "metadata": {},
   "outputs": [],
   "source": []
  }
 ],
 "metadata": {
  "kernelspec": {
   "display_name": "Python 3",
   "language": "python",
   "name": "python3"
  },
  "language_info": {
   "codemirror_mode": {
    "name": "ipython",
    "version": 3
   },
   "file_extension": ".py",
   "mimetype": "text/x-python",
   "name": "python",
   "nbconvert_exporter": "python",
   "pygments_lexer": "ipython3",
   "version": "3.8.6"
  }
 },
 "nbformat": 4,
 "nbformat_minor": 4
}
